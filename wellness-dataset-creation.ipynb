{
 "cells": [
  {
   "cell_type": "code",
   "execution_count": 1,
   "id": "439af556",
   "metadata": {
    "_cell_guid": "b1076dfc-b9ad-4769-8c92-a6c4dae69d19",
    "_uuid": "8f2839f25d086af736a60e9eeb907d3b93b6e0e5",
    "execution": {
     "iopub.execute_input": "2024-12-14T15:48:52.529146Z",
     "iopub.status.busy": "2024-12-14T15:48:52.528731Z",
     "iopub.status.idle": "2024-12-14T15:48:56.374958Z",
     "shell.execute_reply": "2024-12-14T15:48:56.373963Z"
    },
    "papermill": {
     "duration": 3.852488,
     "end_time": "2024-12-14T15:48:56.377302",
     "exception": false,
     "start_time": "2024-12-14T15:48:52.524814",
     "status": "completed"
    },
    "tags": []
   },
   "outputs": [
    {
     "data": {
      "text/html": [
       "<div>\n",
       "<style scoped>\n",
       "    .dataframe tbody tr th:only-of-type {\n",
       "        vertical-align: middle;\n",
       "    }\n",
       "\n",
       "    .dataframe tbody tr th {\n",
       "        vertical-align: top;\n",
       "    }\n",
       "\n",
       "    .dataframe thead th {\n",
       "        text-align: right;\n",
       "    }\n",
       "</style>\n",
       "<table border=\"1\" class=\"dataframe\">\n",
       "  <thead>\n",
       "    <tr style=\"text-align: right;\">\n",
       "      <th></th>\n",
       "      <th>Text</th>\n",
       "      <th>Explanations</th>\n",
       "      <th>Aspect</th>\n",
       "    </tr>\n",
       "  </thead>\n",
       "  <tbody>\n",
       "    <tr>\n",
       "      <th>679</th>\n",
       "      <td>\"I’m tired of having the generic discussions w...</td>\n",
       "      <td>Tired of having the generic discussions with m...</td>\n",
       "      <td>2</td>\n",
       "    </tr>\n",
       "    <tr>\n",
       "      <th>1050</th>\n",
       "      <td>“I have been having less of the really concern...</td>\n",
       "      <td>really concerning/harmful thoughts/ incredibly...</td>\n",
       "      <td>3</td>\n",
       "    </tr>\n",
       "    <tr>\n",
       "      <th>901</th>\n",
       "      <td>“I wish I was never born.”</td>\n",
       "      <td>wish I was never born/</td>\n",
       "      <td>3</td>\n",
       "    </tr>\n",
       "    <tr>\n",
       "      <th>243</th>\n",
       "      <td>“I was eating the cake and she said, that's wh...</td>\n",
       "      <td>I cried/ couldn’t stop/</td>\n",
       "      <td>1</td>\n",
       "    </tr>\n",
       "    <tr>\n",
       "      <th>328</th>\n",
       "      <td>“Over the last year my depression has gotten a...</td>\n",
       "      <td>My hands are losing strength/ anxiety/ suicida...</td>\n",
       "      <td>1</td>\n",
       "    </tr>\n",
       "  </tbody>\n",
       "</table>\n",
       "</div>"
      ],
      "text/plain": [
       "                                                   Text  \\\n",
       "679   \"I’m tired of having the generic discussions w...   \n",
       "1050  “I have been having less of the really concern...   \n",
       "901                          “I wish I was never born.”   \n",
       "243   “I was eating the cake and she said, that's wh...   \n",
       "328   “Over the last year my depression has gotten a...   \n",
       "\n",
       "                                           Explanations  Aspect  \n",
       "679   Tired of having the generic discussions with m...       2  \n",
       "1050  really concerning/harmful thoughts/ incredibly...       3  \n",
       "901                              wish I was never born/       3  \n",
       "243                             I cried/ couldn’t stop/       1  \n",
       "328   My hands are losing strength/ anxiety/ suicida...       1  "
      ]
     },
     "execution_count": 1,
     "metadata": {},
     "output_type": "execute_result"
    }
   ],
   "source": [
    "import pandas as pd\n",
    "from sklearn.utils import shuffle\n",
    "from IPython.display import display, HTML\n",
    "\n",
    "# Load the Excel file\n",
    "file_path = '/kaggle/input/wellness-dataset/wellness_data.xlsx' \n",
    "sheet_names = ['IVA', 'PA', 'SA', 'SEA']  \n",
    "\n",
    "dataframes = []\n",
    "for idx, sheet_name in enumerate(sheet_names):\n",
    "    # Read the sheet\n",
    "    df = pd.read_excel(file_path, sheet_name=sheet_name)\n",
    "    df = df.iloc[1:]\n",
    "    df['Aspect'] = idx\n",
    "    dataframes.append(df)\n",
    "\n",
    "combined_df = pd.concat(dataframes, ignore_index=True)\n",
    "if 'Table 1' in combined_df.columns:\n",
    "    combined_df.drop(columns=['Table 1'], inplace=True)\n",
    "combined_df.columns = ['Text', 'Explanations', 'Aspect']\n",
    "combined_df = shuffle(combined_df, random_state=42)\n",
    "pd.set_option('display.max_columns', None) \n",
    "# display(HTML(combined_df.to_html(index=False)))\n",
    "\n",
    "combined_df.head()\n"
   ]
  },
  {
   "cell_type": "code",
   "execution_count": 2,
   "id": "a9255077",
   "metadata": {
    "execution": {
     "iopub.execute_input": "2024-12-14T15:48:56.383056Z",
     "iopub.status.busy": "2024-12-14T15:48:56.382569Z",
     "iopub.status.idle": "2024-12-14T15:48:56.389055Z",
     "shell.execute_reply": "2024-12-14T15:48:56.388096Z"
    },
    "papermill": {
     "duration": 0.011408,
     "end_time": "2024-12-14T15:48:56.391003",
     "exception": false,
     "start_time": "2024-12-14T15:48:56.379595",
     "status": "completed"
    },
    "tags": []
   },
   "outputs": [
    {
     "data": {
      "text/plain": [
       "(1249, 3)"
      ]
     },
     "execution_count": 2,
     "metadata": {},
     "output_type": "execute_result"
    }
   ],
   "source": [
    "combined_df.shape"
   ]
  },
  {
   "cell_type": "code",
   "execution_count": 3,
   "id": "58510a7b",
   "metadata": {
    "execution": {
     "iopub.execute_input": "2024-12-14T15:48:56.396751Z",
     "iopub.status.busy": "2024-12-14T15:48:56.396355Z",
     "iopub.status.idle": "2024-12-14T15:48:56.417469Z",
     "shell.execute_reply": "2024-12-14T15:48:56.416207Z"
    },
    "papermill": {
     "duration": 0.026786,
     "end_time": "2024-12-14T15:48:56.419957",
     "exception": false,
     "start_time": "2024-12-14T15:48:56.393171",
     "status": "completed"
    },
    "tags": []
   },
   "outputs": [],
   "source": [
    "combined_df.to_csv('/kaggle/working/combined_with_sheet_index.csv', index=False)"
   ]
  }
 ],
 "metadata": {
  "kaggle": {
   "accelerator": "none",
   "dataSources": [
    {
     "datasetId": 6303019,
     "sourceId": 10200122,
     "sourceType": "datasetVersion"
    }
   ],
   "dockerImageVersionId": 30804,
   "isGpuEnabled": false,
   "isInternetEnabled": true,
   "language": "python",
   "sourceType": "notebook"
  },
  "kernelspec": {
   "display_name": "Python 3",
   "language": "python",
   "name": "python3"
  },
  "language_info": {
   "codemirror_mode": {
    "name": "ipython",
    "version": 3
   },
   "file_extension": ".py",
   "mimetype": "text/x-python",
   "name": "python",
   "nbconvert_exporter": "python",
   "pygments_lexer": "ipython3",
   "version": "3.10.14"
  },
  "papermill": {
   "default_parameters": {},
   "duration": 7.319369,
   "end_time": "2024-12-14T15:48:57.043438",
   "environment_variables": {},
   "exception": null,
   "input_path": "__notebook__.ipynb",
   "output_path": "__notebook__.ipynb",
   "parameters": {},
   "start_time": "2024-12-14T15:48:49.724069",
   "version": "2.6.0"
  }
 },
 "nbformat": 4,
 "nbformat_minor": 5
}
