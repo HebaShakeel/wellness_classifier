{
 "cells": [
  {
   "cell_type": "code",
   "execution_count": 1,
   "id": "fa618b6d",
   "metadata": {
    "execution": {
     "iopub.execute_input": "2024-12-02T13:38:03.655500Z",
     "iopub.status.busy": "2024-12-02T13:38:03.655073Z",
     "iopub.status.idle": "2024-12-02T13:38:05.274110Z",
     "shell.execute_reply": "2024-12-02T13:38:05.272572Z"
    },
    "papermill": {
     "duration": 1.631336,
     "end_time": "2024-12-02T13:38:05.276825",
     "exception": false,
     "start_time": "2024-12-02T13:38:03.645489",
     "status": "completed"
    },
    "tags": []
   },
   "outputs": [
    {
     "name": "stdout",
     "output_type": "stream",
     "text": [
      "Index(['PA', 'IVA', 'SA', 'SEA'], dtype='object')\n"
     ]
    },
    {
     "data": {
      "text/html": [
       "<div>\n",
       "<style scoped>\n",
       "    .dataframe tbody tr th:only-of-type {\n",
       "        vertical-align: middle;\n",
       "    }\n",
       "\n",
       "    .dataframe tbody tr th {\n",
       "        vertical-align: top;\n",
       "    }\n",
       "\n",
       "    .dataframe thead th {\n",
       "        text-align: right;\n",
       "    }\n",
       "</style>\n",
       "<table border=\"1\" class=\"dataframe\">\n",
       "  <thead>\n",
       "    <tr style=\"text-align: right;\">\n",
       "      <th></th>\n",
       "      <th>PA</th>\n",
       "      <th>IVA</th>\n",
       "      <th>SA</th>\n",
       "      <th>SEA</th>\n",
       "    </tr>\n",
       "  </thead>\n",
       "  <tbody>\n",
       "    <tr>\n",
       "      <th>0</th>\n",
       "      <td>NaN</td>\n",
       "      <td>“My dad has been depressed fir as long as i ca...</td>\n",
       "      <td>NaN</td>\n",
       "      <td>\"It feels like his depression has skyrocketed ...</td>\n",
       "    </tr>\n",
       "    <tr>\n",
       "      <th>1</th>\n",
       "      <td>NaN</td>\n",
       "      <td>NaN</td>\n",
       "      <td>NaN</td>\n",
       "      <td>“It feels like everything I do is futile, and ...</td>\n",
       "    </tr>\n",
       "    <tr>\n",
       "      <th>2</th>\n",
       "      <td>NaN</td>\n",
       "      <td>NaN</td>\n",
       "      <td>“My mum and dad have cut me off and it's been ...</td>\n",
       "      <td>“That part of my heart has been left empty and...</td>\n",
       "    </tr>\n",
       "    <tr>\n",
       "      <th>3</th>\n",
       "      <td>NaN</td>\n",
       "      <td>NaN</td>\n",
       "      <td>NaN</td>\n",
       "      <td>“now I feel more depressed than ever feel alon...</td>\n",
       "    </tr>\n",
       "    <tr>\n",
       "      <th>4</th>\n",
       "      <td>“I have also gained so much weight in the last...</td>\n",
       "      <td>NaN</td>\n",
       "      <td>“I have no social interactions as I feel unwor...</td>\n",
       "      <td>“I have no motivation I am crying all the time...</td>\n",
       "    </tr>\n",
       "  </tbody>\n",
       "</table>\n",
       "</div>"
      ],
      "text/plain": [
       "                                                  PA  \\\n",
       "0                                                NaN   \n",
       "1                                                NaN   \n",
       "2                                                NaN   \n",
       "3                                                NaN   \n",
       "4  “I have also gained so much weight in the last...   \n",
       "\n",
       "                                                 IVA  \\\n",
       "0  “My dad has been depressed fir as long as i ca...   \n",
       "1                                                NaN   \n",
       "2                                                NaN   \n",
       "3                                                NaN   \n",
       "4                                                NaN   \n",
       "\n",
       "                                                  SA  \\\n",
       "0                                                NaN   \n",
       "1                                                NaN   \n",
       "2  “My mum and dad have cut me off and it's been ...   \n",
       "3                                                NaN   \n",
       "4  “I have no social interactions as I feel unwor...   \n",
       "\n",
       "                                                 SEA  \n",
       "0  \"It feels like his depression has skyrocketed ...  \n",
       "1  “It feels like everything I do is futile, and ...  \n",
       "2  “That part of my heart has been left empty and...  \n",
       "3  “now I feel more depressed than ever feel alon...  \n",
       "4  “I have no motivation I am crying all the time...  "
      ]
     },
     "execution_count": 1,
     "metadata": {},
     "output_type": "execute_result"
    }
   ],
   "source": [
    "import pandas as pd\n",
    "\n",
    "# Load the Excel file\n",
    "file_path = '/kaggle/input/mentidata/mentidata.xlsx'\n",
    "\n",
    "# Load Sheet 6\n",
    "df = pd.read_excel(file_path, sheet_name='Sheet 6 - forum', engine='openpyxl')\n",
    "df.columns = ['PA', 'IVA', 'SA', 'SEA']\n",
    "print(df.columns)\n",
    "df = df.drop(index=0).reset_index(drop=True)\n",
    "df.head()"
   ]
  },
  {
   "cell_type": "code",
   "execution_count": 2,
   "id": "9d4ac1fa",
   "metadata": {
    "execution": {
     "iopub.execute_input": "2024-12-02T13:38:05.294412Z",
     "iopub.status.busy": "2024-12-02T13:38:05.293815Z",
     "iopub.status.idle": "2024-12-02T13:38:05.301165Z",
     "shell.execute_reply": "2024-12-02T13:38:05.300002Z"
    },
    "papermill": {
     "duration": 0.01864,
     "end_time": "2024-12-02T13:38:05.303472",
     "exception": false,
     "start_time": "2024-12-02T13:38:05.284832",
     "status": "completed"
    },
    "tags": []
   },
   "outputs": [
    {
     "data": {
      "text/plain": [
       "(481, 4)"
      ]
     },
     "execution_count": 2,
     "metadata": {},
     "output_type": "execute_result"
    }
   ],
   "source": [
    "df.shape"
   ]
  },
  {
   "cell_type": "code",
   "execution_count": 3,
   "id": "d9fbf48e",
   "metadata": {
    "execution": {
     "iopub.execute_input": "2024-12-02T13:38:05.321010Z",
     "iopub.status.busy": "2024-12-02T13:38:05.320091Z",
     "iopub.status.idle": "2024-12-02T13:38:05.376629Z",
     "shell.execute_reply": "2024-12-02T13:38:05.374904Z"
    },
    "papermill": {
     "duration": 0.068605,
     "end_time": "2024-12-02T13:38:05.379278",
     "exception": false,
     "start_time": "2024-12-02T13:38:05.310673",
     "status": "completed"
    },
    "tags": []
   },
   "outputs": [
    {
     "data": {
      "text/html": [
       "<div>\n",
       "<style scoped>\n",
       "    .dataframe tbody tr th:only-of-type {\n",
       "        vertical-align: middle;\n",
       "    }\n",
       "\n",
       "    .dataframe tbody tr th {\n",
       "        vertical-align: top;\n",
       "    }\n",
       "\n",
       "    .dataframe thead th {\n",
       "        text-align: right;\n",
       "    }\n",
       "</style>\n",
       "<table border=\"1\" class=\"dataframe\">\n",
       "  <thead>\n",
       "    <tr style=\"text-align: right;\">\n",
       "      <th></th>\n",
       "      <th>Text</th>\n",
       "      <th>Category</th>\n",
       "    </tr>\n",
       "  </thead>\n",
       "  <tbody>\n",
       "    <tr>\n",
       "      <th>0</th>\n",
       "      <td>My dad has been depressed fir as long as i can...</td>\n",
       "      <td>IVA</td>\n",
       "    </tr>\n",
       "    <tr>\n",
       "      <th>1</th>\n",
       "      <td>It feels like his depression has skyrocketed t...</td>\n",
       "      <td>SEA</td>\n",
       "    </tr>\n",
       "    <tr>\n",
       "      <th>2</th>\n",
       "      <td>he is 60 years old but im only 19 and have my ...</td>\n",
       "      <td>SEA</td>\n",
       "    </tr>\n",
       "    <tr>\n",
       "      <th>3</th>\n",
       "      <td>ive been having nightmares and i really just d...</td>\n",
       "      <td>SEA</td>\n",
       "    </tr>\n",
       "    <tr>\n",
       "      <th>4</th>\n",
       "      <td>It feels like everything I do is futile, and a...</td>\n",
       "      <td>SEA</td>\n",
       "    </tr>\n",
       "    <tr>\n",
       "      <th>...</th>\n",
       "      <td>...</td>\n",
       "      <td>...</td>\n",
       "    </tr>\n",
       "    <tr>\n",
       "      <th>1593</th>\n",
       "      <td>I feel guilty for my depression</td>\n",
       "      <td>SEA</td>\n",
       "    </tr>\n",
       "    <tr>\n",
       "      <th>1594</th>\n",
       "      <td>Life was great. until about 4 weeks ago the lo...</td>\n",
       "      <td>SA</td>\n",
       "    </tr>\n",
       "    <tr>\n",
       "      <th>1595</th>\n",
       "      <td>I’m already in so much pain I don’t know if my...</td>\n",
       "      <td>SEA</td>\n",
       "    </tr>\n",
       "    <tr>\n",
       "      <th>1596</th>\n",
       "      <td>I’ve been doing a lot of trauma recovery work ...</td>\n",
       "      <td>PA</td>\n",
       "    </tr>\n",
       "    <tr>\n",
       "      <th>1597</th>\n",
       "      <td>Really want help with correct antidepressants ...</td>\n",
       "      <td>PA</td>\n",
       "    </tr>\n",
       "  </tbody>\n",
       "</table>\n",
       "<p>1598 rows × 2 columns</p>\n",
       "</div>"
      ],
      "text/plain": [
       "                                                   Text Category\n",
       "0     My dad has been depressed fir as long as i can...      IVA\n",
       "1     It feels like his depression has skyrocketed t...      SEA\n",
       "2     he is 60 years old but im only 19 and have my ...      SEA\n",
       "3     ive been having nightmares and i really just d...      SEA\n",
       "4     It feels like everything I do is futile, and a...      SEA\n",
       "...                                                 ...      ...\n",
       "1593                    I feel guilty for my depression      SEA\n",
       "1594  Life was great. until about 4 weeks ago the lo...       SA\n",
       "1595  I’m already in so much pain I don’t know if my...      SEA\n",
       "1596  I’ve been doing a lot of trauma recovery work ...       PA\n",
       "1597  Really want help with correct antidepressants ...       PA\n",
       "\n",
       "[1598 rows x 2 columns]"
      ]
     },
     "metadata": {},
     "output_type": "display_data"
    }
   ],
   "source": [
    "data = []\n",
    "\n",
    "import re  # Importing the regular expressions module\n",
    "# Iterate over each row\n",
    "for index, row in df.iterrows(): \n",
    "    for category in df.columns:\n",
    "        text_data = row[category]\n",
    "        if pd.notna(text_data) and text_data != '':\n",
    "            text_data = text_data.replace('“', '\"').replace('”', '\"')\n",
    "            # Split the text data by double quotes and strip whitespace\n",
    "            texts = [text.strip() for text in text_data.split('\"') if text.strip()]\n",
    "#             texts = [text.strip() for text in re.split(r'[\"\\”]', text_data) if text.strip()]\n",
    "            for text in texts: \n",
    "                data.append([text, category])  # Append each text and its category\n",
    "\n",
    "\n",
    "# Create a new DataFrame\n",
    "new_df = pd.DataFrame(data, columns=['Text', 'Category'])\n",
    "\n",
    "# Display the new DataFrame\n",
    "import IPython.display as display\n",
    "display.display(new_df)"
   ]
  },
  {
   "cell_type": "code",
   "execution_count": 4,
   "id": "d81fcd85",
   "metadata": {
    "execution": {
     "iopub.execute_input": "2024-12-02T13:38:05.398787Z",
     "iopub.status.busy": "2024-12-02T13:38:05.398412Z",
     "iopub.status.idle": "2024-12-02T13:38:05.406574Z",
     "shell.execute_reply": "2024-12-02T13:38:05.405287Z"
    },
    "papermill": {
     "duration": 0.021202,
     "end_time": "2024-12-02T13:38:05.408969",
     "exception": false,
     "start_time": "2024-12-02T13:38:05.387767",
     "status": "completed"
    },
    "tags": []
   },
   "outputs": [
    {
     "data": {
      "text/plain": [
       "(1598, 2)"
      ]
     },
     "execution_count": 4,
     "metadata": {},
     "output_type": "execute_result"
    }
   ],
   "source": [
    "new_df.shape"
   ]
  },
  {
   "cell_type": "code",
   "execution_count": 5,
   "id": "7501b2fb",
   "metadata": {
    "execution": {
     "iopub.execute_input": "2024-12-02T13:38:05.426826Z",
     "iopub.status.busy": "2024-12-02T13:38:05.426457Z",
     "iopub.status.idle": "2024-12-02T13:38:05.446785Z",
     "shell.execute_reply": "2024-12-02T13:38:05.445340Z"
    },
    "papermill": {
     "duration": 0.032805,
     "end_time": "2024-12-02T13:38:05.449592",
     "exception": false,
     "start_time": "2024-12-02T13:38:05.416787",
     "status": "completed"
    },
    "tags": []
   },
   "outputs": [
    {
     "data": {
      "text/html": [
       "<div>\n",
       "<style scoped>\n",
       "    .dataframe tbody tr th:only-of-type {\n",
       "        vertical-align: middle;\n",
       "    }\n",
       "\n",
       "    .dataframe tbody tr th {\n",
       "        vertical-align: top;\n",
       "    }\n",
       "\n",
       "    .dataframe thead th {\n",
       "        text-align: right;\n",
       "    }\n",
       "</style>\n",
       "<table border=\"1\" class=\"dataframe\">\n",
       "  <thead>\n",
       "    <tr style=\"text-align: right;\">\n",
       "      <th></th>\n",
       "      <th>Category</th>\n",
       "      <th>Count</th>\n",
       "    </tr>\n",
       "  </thead>\n",
       "  <tbody>\n",
       "    <tr>\n",
       "      <th>0</th>\n",
       "      <td>SEA</td>\n",
       "      <td>699</td>\n",
       "    </tr>\n",
       "    <tr>\n",
       "      <th>1</th>\n",
       "      <td>SA</td>\n",
       "      <td>398</td>\n",
       "    </tr>\n",
       "    <tr>\n",
       "      <th>2</th>\n",
       "      <td>PA</td>\n",
       "      <td>321</td>\n",
       "    </tr>\n",
       "    <tr>\n",
       "      <th>3</th>\n",
       "      <td>IVA</td>\n",
       "      <td>180</td>\n",
       "    </tr>\n",
       "  </tbody>\n",
       "</table>\n",
       "</div>"
      ],
      "text/plain": [
       "  Category  Count\n",
       "0      SEA    699\n",
       "1       SA    398\n",
       "2       PA    321\n",
       "3      IVA    180"
      ]
     },
     "metadata": {},
     "output_type": "display_data"
    }
   ],
   "source": [
    "category_counts = new_df['Category'].value_counts()\n",
    "# Convert the counts to a DataFrame\n",
    "category_counts_df = category_counts.reset_index()\n",
    "category_counts_df.columns = ['Category', 'Count']  # Rename columns\n",
    "\n",
    "# Display the counts DataFrame\n",
    "import IPython.display as display\n",
    "display.display(category_counts_df)"
   ]
  },
  {
   "cell_type": "code",
   "execution_count": 6,
   "id": "73d01a26",
   "metadata": {
    "execution": {
     "iopub.execute_input": "2024-12-02T13:38:05.466706Z",
     "iopub.status.busy": "2024-12-02T13:38:05.466300Z",
     "iopub.status.idle": "2024-12-02T13:38:39.806542Z",
     "shell.execute_reply": "2024-12-02T13:38:39.805133Z"
    },
    "papermill": {
     "duration": 34.360017,
     "end_time": "2024-12-02T13:38:39.817246",
     "exception": false,
     "start_time": "2024-12-02T13:38:05.457229",
     "status": "completed"
    },
    "tags": []
   },
   "outputs": [
    {
     "name": "stdout",
     "output_type": "stream",
     "text": [
      "[nltk_data] Error loading stopwords: <urlopen error [Errno -3]\n",
      "[nltk_data]     Temporary failure in name resolution>\n"
     ]
    },
    {
     "data": {
      "text/html": [
       "<div>\n",
       "<style scoped>\n",
       "    .dataframe tbody tr th:only-of-type {\n",
       "        vertical-align: middle;\n",
       "    }\n",
       "\n",
       "    .dataframe tbody tr th {\n",
       "        vertical-align: top;\n",
       "    }\n",
       "\n",
       "    .dataframe thead th {\n",
       "        text-align: right;\n",
       "    }\n",
       "</style>\n",
       "<table border=\"1\" class=\"dataframe\">\n",
       "  <thead>\n",
       "    <tr style=\"text-align: right;\">\n",
       "      <th></th>\n",
       "      <th>Text</th>\n",
       "      <th>Category</th>\n",
       "    </tr>\n",
       "  </thead>\n",
       "  <tbody>\n",
       "    <tr>\n",
       "      <th>0</th>\n",
       "      <td>My dad depressed fir long remember seriously i...</td>\n",
       "      <td>IVA</td>\n",
       "    </tr>\n",
       "    <tr>\n",
       "      <th>1</th>\n",
       "      <td>It feels like depression skyrocketed point I'm...</td>\n",
       "      <td>SEA</td>\n",
       "    </tr>\n",
       "    <tr>\n",
       "      <th>2</th>\n",
       "      <td>60 years old im 19 mental health struggles din...</td>\n",
       "      <td>SEA</td>\n",
       "    </tr>\n",
       "    <tr>\n",
       "      <th>3</th>\n",
       "      <td>ive nightmares really dont know make ok beyond...</td>\n",
       "      <td>SEA</td>\n",
       "    </tr>\n",
       "    <tr>\n",
       "      <th>4</th>\n",
       "      <td>It feels like everything I futile, anything ma...</td>\n",
       "      <td>SEA</td>\n",
       "    </tr>\n",
       "    <tr>\n",
       "      <th>5</th>\n",
       "      <td>I struggle lot articulating thoughts well, fee...</td>\n",
       "      <td>SEA</td>\n",
       "    </tr>\n",
       "    <tr>\n",
       "      <th>6</th>\n",
       "      <td>I'm becoming frustrated lack progress therapy ...</td>\n",
       "      <td>SEA</td>\n",
       "    </tr>\n",
       "    <tr>\n",
       "      <th>7</th>\n",
       "      <td>My mum dad cut like since 2004 sisters wont an...</td>\n",
       "      <td>SA</td>\n",
       "    </tr>\n",
       "    <tr>\n",
       "      <th>8</th>\n",
       "      <td>I always new I black sheep family. In father's...</td>\n",
       "      <td>SA</td>\n",
       "    </tr>\n",
       "    <tr>\n",
       "      <th>9</th>\n",
       "      <td>That part heart left empty hurting since I wan...</td>\n",
       "      <td>SEA</td>\n",
       "    </tr>\n",
       "    <tr>\n",
       "      <th>10</th>\n",
       "      <td>I feel depressed ever feel alone even tho I 2 ...</td>\n",
       "      <td>SEA</td>\n",
       "    </tr>\n",
       "    <tr>\n",
       "      <th>11</th>\n",
       "      <td>I also gained much weight last year I heavier ...</td>\n",
       "      <td>PA</td>\n",
       "    </tr>\n",
       "    <tr>\n",
       "      <th>12</th>\n",
       "      <td>I social interactions I feel unworthy love fri...</td>\n",
       "      <td>SA</td>\n",
       "    </tr>\n",
       "    <tr>\n",
       "      <th>13</th>\n",
       "      <td>I motivation I crying time I hardly leave hous...</td>\n",
       "      <td>SEA</td>\n",
       "    </tr>\n",
       "    <tr>\n",
       "      <th>14</th>\n",
       "      <td>I alway look jobs, last long, regardless hard ...</td>\n",
       "      <td>IVA</td>\n",
       "    </tr>\n",
       "  </tbody>\n",
       "</table>\n",
       "</div>"
      ],
      "text/plain": [
       "                                                 Text Category\n",
       "0   My dad depressed fir long remember seriously i...      IVA\n",
       "1   It feels like depression skyrocketed point I'm...      SEA\n",
       "2   60 years old im 19 mental health struggles din...      SEA\n",
       "3   ive nightmares really dont know make ok beyond...      SEA\n",
       "4   It feels like everything I futile, anything ma...      SEA\n",
       "5   I struggle lot articulating thoughts well, fee...      SEA\n",
       "6   I'm becoming frustrated lack progress therapy ...      SEA\n",
       "7   My mum dad cut like since 2004 sisters wont an...       SA\n",
       "8   I always new I black sheep family. In father's...       SA\n",
       "9   That part heart left empty hurting since I wan...      SEA\n",
       "10  I feel depressed ever feel alone even tho I 2 ...      SEA\n",
       "11  I also gained much weight last year I heavier ...       PA\n",
       "12  I social interactions I feel unworthy love fri...       SA\n",
       "13  I motivation I crying time I hardly leave hous...      SEA\n",
       "14  I alway look jobs, last long, regardless hard ...      IVA"
      ]
     },
     "execution_count": 6,
     "metadata": {},
     "output_type": "execute_result"
    }
   ],
   "source": [
    "import nltk\n",
    "nltk.download('stopwords')\n",
    "from nltk.corpus import stopwords\n",
    "stop = stopwords.words('english')\n",
    "new_df['Text'] = new_df['Text'].apply(lambda x: \" \".join(x for x in x.split() if x not in stop))\n",
    "new_df.head(15)"
   ]
  },
  {
   "cell_type": "code",
   "execution_count": 7,
   "id": "c5a307cd",
   "metadata": {
    "execution": {
     "iopub.execute_input": "2024-12-02T13:38:39.834929Z",
     "iopub.status.busy": "2024-12-02T13:38:39.834369Z",
     "iopub.status.idle": "2024-12-02T13:38:39.848694Z",
     "shell.execute_reply": "2024-12-02T13:38:39.847410Z"
    },
    "papermill": {
     "duration": 0.026169,
     "end_time": "2024-12-02T13:38:39.851332",
     "exception": false,
     "start_time": "2024-12-02T13:38:39.825163",
     "status": "completed"
    },
    "tags": []
   },
   "outputs": [
    {
     "name": "stdout",
     "output_type": "stream",
     "text": [
      "                                                   Text Category  \\\n",
      "0     My dad depressed fir long remember seriously i...      IVA   \n",
      "1     It feels like depression skyrocketed point I'm...      SEA   \n",
      "2     60 years old im 19 mental health struggles din...      SEA   \n",
      "3     ive nightmares really dont know make ok beyond...      SEA   \n",
      "4     It feels like everything I futile, anything ma...      SEA   \n",
      "...                                                 ...      ...   \n",
      "1593                           I feel guilty depression      SEA   \n",
      "1594  Life great. 4 weeks ago love life, woman I tho...       SA   \n",
      "1595  I’m already much pain I don’t know heart take ...      SEA   \n",
      "1596  I’ve lot trauma recovery work recent months ye...       PA   \n",
      "1597  Really want help correct antidepressants comba...       PA   \n",
      "\n",
      "      Category_Encoded  \n",
      "0                    0  \n",
      "1                    3  \n",
      "2                    3  \n",
      "3                    3  \n",
      "4                    3  \n",
      "...                ...  \n",
      "1593                 3  \n",
      "1594                 2  \n",
      "1595                 3  \n",
      "1596                 1  \n",
      "1597                 1  \n",
      "\n",
      "[1598 rows x 3 columns]\n",
      "Class Mapping: {'IVA': 0, 'PA': 1, 'SA': 2, 'SEA': 3}\n"
     ]
    }
   ],
   "source": [
    "from sklearn.preprocessing import LabelEncoder\n",
    "# Initialize LabelEncoder\n",
    "label_encoder = LabelEncoder()\n",
    "\n",
    "# Fit and transform the target column\n",
    "new_df['Category_Encoded'] = label_encoder.fit_transform(new_df['Category'])\n",
    "\n",
    "# Display the DataFrame with encoded labels\n",
    "print(new_df)\n",
    "\n",
    "# To see the mapping of labels to integers\n",
    "print(\"Class Mapping:\", dict(zip(label_encoder.classes_, label_encoder.transform(label_encoder.classes_))))"
   ]
  },
  {
   "cell_type": "code",
   "execution_count": 8,
   "id": "18485c1e",
   "metadata": {
    "execution": {
     "iopub.execute_input": "2024-12-02T13:38:39.869566Z",
     "iopub.status.busy": "2024-12-02T13:38:39.869149Z",
     "iopub.status.idle": "2024-12-02T13:38:39.874440Z",
     "shell.execute_reply": "2024-12-02T13:38:39.873299Z"
    },
    "papermill": {
     "duration": 0.017484,
     "end_time": "2024-12-02T13:38:39.876796",
     "exception": false,
     "start_time": "2024-12-02T13:38:39.859312",
     "status": "completed"
    },
    "tags": []
   },
   "outputs": [],
   "source": [
    "from sklearn.model_selection import train_test_split\n",
    "from sklearn.feature_extraction.text import CountVectorizer, TfidfTransformer"
   ]
  },
  {
   "cell_type": "code",
   "execution_count": 9,
   "id": "710a35cf",
   "metadata": {
    "execution": {
     "iopub.execute_input": "2024-12-02T13:38:39.895001Z",
     "iopub.status.busy": "2024-12-02T13:38:39.894580Z",
     "iopub.status.idle": "2024-12-02T13:38:39.903896Z",
     "shell.execute_reply": "2024-12-02T13:38:39.902685Z"
    },
    "papermill": {
     "duration": 0.021138,
     "end_time": "2024-12-02T13:38:39.906297",
     "exception": false,
     "start_time": "2024-12-02T13:38:39.885159",
     "status": "completed"
    },
    "tags": []
   },
   "outputs": [],
   "source": [
    "# Split into training and test sets\n",
    "X_train, X_test, y_train, y_test = train_test_split(new_df['Text'], new_df['Category_Encoded'], test_size=0.2, random_state=42)"
   ]
  },
  {
   "cell_type": "code",
   "execution_count": 10,
   "id": "466323fe",
   "metadata": {
    "execution": {
     "iopub.execute_input": "2024-12-02T13:38:39.925557Z",
     "iopub.status.busy": "2024-12-02T13:38:39.925126Z",
     "iopub.status.idle": "2024-12-02T13:38:39.963349Z",
     "shell.execute_reply": "2024-12-02T13:38:39.961915Z"
    },
    "papermill": {
     "duration": 0.051374,
     "end_time": "2024-12-02T13:38:39.966267",
     "exception": false,
     "start_time": "2024-12-02T13:38:39.914893",
     "status": "completed"
    },
    "tags": []
   },
   "outputs": [],
   "source": [
    "# Step 1: Use CountVectorizer\n",
    "count_vectorizer = CountVectorizer()\n",
    "X_train_counts = count_vectorizer.fit_transform(X_train)"
   ]
  },
  {
   "cell_type": "code",
   "execution_count": 11,
   "id": "cba666e5",
   "metadata": {
    "execution": {
     "iopub.execute_input": "2024-12-02T13:38:39.985536Z",
     "iopub.status.busy": "2024-12-02T13:38:39.984969Z",
     "iopub.status.idle": "2024-12-02T13:38:40.002844Z",
     "shell.execute_reply": "2024-12-02T13:38:40.001551Z"
    },
    "papermill": {
     "duration": 0.031143,
     "end_time": "2024-12-02T13:38:40.005572",
     "exception": false,
     "start_time": "2024-12-02T13:38:39.974429",
     "status": "completed"
    },
    "tags": []
   },
   "outputs": [],
   "source": [
    "# Step 2: Apply TfidfTransformer\n",
    "tfidf_transformer = TfidfTransformer()\n",
    "X_train_tfidf = tfidf_transformer.fit_transform(X_train_counts)"
   ]
  },
  {
   "cell_type": "code",
   "execution_count": 12,
   "id": "c7ffec51",
   "metadata": {
    "execution": {
     "iopub.execute_input": "2024-12-02T13:38:40.023725Z",
     "iopub.status.busy": "2024-12-02T13:38:40.023308Z",
     "iopub.status.idle": "2024-12-02T13:38:40.036319Z",
     "shell.execute_reply": "2024-12-02T13:38:40.035132Z"
    },
    "papermill": {
     "duration": 0.025018,
     "end_time": "2024-12-02T13:38:40.038840",
     "exception": false,
     "start_time": "2024-12-02T13:38:40.013822",
     "status": "completed"
    },
    "tags": []
   },
   "outputs": [],
   "source": [
    "# Transform the test data\n",
    "X_test_counts = count_vectorizer.transform(X_test)\n",
    "X_test_tfidf = tfidf_transformer.transform(X_test_counts)"
   ]
  },
  {
   "cell_type": "code",
   "execution_count": 13,
   "id": "066c18ae",
   "metadata": {
    "execution": {
     "iopub.execute_input": "2024-12-02T13:38:40.056415Z",
     "iopub.status.busy": "2024-12-02T13:38:40.055996Z",
     "iopub.status.idle": "2024-12-02T13:38:40.061675Z",
     "shell.execute_reply": "2024-12-02T13:38:40.060534Z"
    },
    "papermill": {
     "duration": 0.017051,
     "end_time": "2024-12-02T13:38:40.063839",
     "exception": false,
     "start_time": "2024-12-02T13:38:40.046788",
     "status": "completed"
    },
    "tags": []
   },
   "outputs": [
    {
     "name": "stdout",
     "output_type": "stream",
     "text": [
      "Training data shape: (1278, 3223)\n",
      "Test data shape: (320, 3223)\n"
     ]
    }
   ],
   "source": [
    "# Verify the shapes\n",
    "print(f\"Training data shape: {X_train_tfidf.shape}\")\n",
    "print(f\"Test data shape: {X_test_tfidf.shape}\")"
   ]
  },
  {
   "cell_type": "markdown",
   "id": "648eb2c6",
   "metadata": {
    "papermill": {
     "duration": 0.008289,
     "end_time": "2024-12-02T13:38:40.080089",
     "exception": false,
     "start_time": "2024-12-02T13:38:40.071800",
     "status": "completed"
    },
    "tags": []
   },
   "source": [
    "# **NAIVE BAYES**"
   ]
  },
  {
   "cell_type": "code",
   "execution_count": 14,
   "id": "4d5f096f",
   "metadata": {
    "execution": {
     "iopub.execute_input": "2024-12-02T13:38:40.101878Z",
     "iopub.status.busy": "2024-12-02T13:38:40.100858Z",
     "iopub.status.idle": "2024-12-02T13:38:40.110561Z",
     "shell.execute_reply": "2024-12-02T13:38:40.108990Z"
    },
    "papermill": {
     "duration": 0.025026,
     "end_time": "2024-12-02T13:38:40.113516",
     "exception": false,
     "start_time": "2024-12-02T13:38:40.088490",
     "status": "completed"
    },
    "tags": []
   },
   "outputs": [],
   "source": [
    "from sklearn.naive_bayes import MultinomialNB\n",
    "from sklearn.model_selection import cross_val_score, StratifiedKFold"
   ]
  },
  {
   "cell_type": "code",
   "execution_count": 15,
   "id": "8d6fb093",
   "metadata": {
    "execution": {
     "iopub.execute_input": "2024-12-02T13:38:40.140746Z",
     "iopub.status.busy": "2024-12-02T13:38:40.139258Z",
     "iopub.status.idle": "2024-12-02T13:38:40.150446Z",
     "shell.execute_reply": "2024-12-02T13:38:40.148277Z"
    },
    "papermill": {
     "duration": 0.028444,
     "end_time": "2024-12-02T13:38:40.152587",
     "exception": false,
     "start_time": "2024-12-02T13:38:40.124143",
     "status": "completed"
    },
    "tags": []
   },
   "outputs": [],
   "source": [
    "from sklearn.metrics import classification_report"
   ]
  },
  {
   "cell_type": "code",
   "execution_count": 16,
   "id": "ed46c11c",
   "metadata": {
    "execution": {
     "iopub.execute_input": "2024-12-02T13:38:40.174916Z",
     "iopub.status.busy": "2024-12-02T13:38:40.174552Z",
     "iopub.status.idle": "2024-12-02T13:38:40.211327Z",
     "shell.execute_reply": "2024-12-02T13:38:40.210021Z"
    },
    "papermill": {
     "duration": 0.049131,
     "end_time": "2024-12-02T13:38:40.213865",
     "exception": false,
     "start_time": "2024-12-02T13:38:40.164734",
     "status": "completed"
    },
    "tags": []
   },
   "outputs": [],
   "source": [
    "# Multinomial Naive Bayes\n",
    "nb_model = MultinomialNB()\n",
    "\n",
    "# Cross-validation setup\n",
    "cv = StratifiedKFold(n_splits=5, shuffle=True, random_state=42)\n",
    "\n",
    "# Perform cross-validation\n",
    "cv_scores = cross_val_score(nb_model, X_train_tfidf, y_train, cv=cv, scoring='accuracy')"
   ]
  },
  {
   "cell_type": "code",
   "execution_count": 17,
   "id": "6523241d",
   "metadata": {
    "execution": {
     "iopub.execute_input": "2024-12-02T13:38:40.231738Z",
     "iopub.status.busy": "2024-12-02T13:38:40.231317Z",
     "iopub.status.idle": "2024-12-02T13:38:40.237821Z",
     "shell.execute_reply": "2024-12-02T13:38:40.236595Z"
    },
    "papermill": {
     "duration": 0.018209,
     "end_time": "2024-12-02T13:38:40.240172",
     "exception": false,
     "start_time": "2024-12-02T13:38:40.221963",
     "status": "completed"
    },
    "tags": []
   },
   "outputs": [
    {
     "name": "stdout",
     "output_type": "stream",
     "text": [
      "Cross-validation scores: [0.4453125  0.5078125  0.44140625 0.49411765 0.50588235]\n",
      "Mean accuracy: 0.4789\n"
     ]
    }
   ],
   "source": [
    "# Print cross-validation results\n",
    "print(f\"Cross-validation scores: {cv_scores}\")\n",
    "print(f\"Mean accuracy: {cv_scores.mean():.4f}\")"
   ]
  },
  {
   "cell_type": "code",
   "execution_count": 18,
   "id": "8271684a",
   "metadata": {
    "execution": {
     "iopub.execute_input": "2024-12-02T13:38:40.257922Z",
     "iopub.status.busy": "2024-12-02T13:38:40.257550Z",
     "iopub.status.idle": "2024-12-02T13:38:40.273647Z",
     "shell.execute_reply": "2024-12-02T13:38:40.272532Z"
    },
    "papermill": {
     "duration": 0.028124,
     "end_time": "2024-12-02T13:38:40.276288",
     "exception": false,
     "start_time": "2024-12-02T13:38:40.248164",
     "status": "completed"
    },
    "tags": []
   },
   "outputs": [
    {
     "name": "stdout",
     "output_type": "stream",
     "text": [
      "Classification Report:\n",
      "              precision    recall  f1-score   support\n",
      "\n",
      "           0       1.00      0.05      0.10        38\n",
      "           1       0.70      0.11      0.18        66\n",
      "           2       0.62      0.12      0.20        69\n",
      "           3       0.48      0.96      0.64       147\n",
      "\n",
      "    accuracy                           0.49       320\n",
      "   macro avg       0.70      0.31      0.28       320\n",
      "weighted avg       0.62      0.49      0.39       320\n",
      "\n"
     ]
    }
   ],
   "source": [
    "# Fit the model on the entire training data\n",
    "nb_model.fit(X_train_tfidf, y_train)\n",
    "\n",
    "# Predict on the test set\n",
    "y_pred = nb_model.predict(X_test_tfidf)\n",
    "\n",
    "# Evaluate results\n",
    "print(\"Classification Report:\")\n",
    "print(classification_report(y_test, y_pred))"
   ]
  },
  {
   "cell_type": "code",
   "execution_count": 19,
   "id": "bbb85aca",
   "metadata": {
    "execution": {
     "iopub.execute_input": "2024-12-02T13:38:40.296088Z",
     "iopub.status.busy": "2024-12-02T13:38:40.295684Z",
     "iopub.status.idle": "2024-12-02T13:38:40.688496Z",
     "shell.execute_reply": "2024-12-02T13:38:40.687250Z"
    },
    "papermill": {
     "duration": 0.406476,
     "end_time": "2024-12-02T13:38:40.691104",
     "exception": false,
     "start_time": "2024-12-02T13:38:40.284628",
     "status": "completed"
    },
    "tags": []
   },
   "outputs": [
    {
     "data": {
      "image/png": "[encoded data removed]",
      "text/plain": [
       "<Figure size 640x480 with 2 Axes>"
      ]
     },
     "metadata": {},
     "output_type": "display_data"
    }
   ],
   "source": [
    "from sklearn.metrics import confusion_matrix, ConfusionMatrixDisplay\n",
    "import matplotlib.pyplot as plt\n",
    "\n",
    "# Generate confusion matrix\n",
    "cm = confusion_matrix(y_test, y_pred, labels=nb_model.classes_)\n",
    "\n",
    "# Display confusion matrix\n",
    "disp = ConfusionMatrixDisplay(confusion_matrix=cm, display_labels=nb_model.classes_)\n",
    "disp.plot(cmap=plt.cm.Blues)\n",
    "plt.title(\"Confusion Matrix\")\n",
    "plt.show()\n"
   ]
  },
  {
   "cell_type": "code",
   "execution_count": 20,
   "id": "40f697eb",
   "metadata": {
    "execution": {
     "iopub.execute_input": "2024-12-02T13:38:40.710152Z",
     "iopub.status.busy": "2024-12-02T13:38:40.709742Z",
     "iopub.status.idle": "2024-12-02T13:38:41.522177Z",
     "shell.execute_reply": "2024-12-02T13:38:41.521086Z"
    },
    "papermill": {
     "duration": 0.824726,
     "end_time": "2024-12-02T13:38:41.524553",
     "exception": false,
     "start_time": "2024-12-02T13:38:40.699827",
     "status": "completed"
    },
    "tags": []
   },
   "outputs": [
    {
     "data": {
      "image/png": "[encoded data removed]",
      "text/plain": [
       "<Figure size 1000x600 with 1 Axes>"
      ]
     },
     "metadata": {},
     "output_type": "display_data"
    }
   ],
   "source": [
    "from sklearn.metrics import classification_report\n",
    "import pandas as pd\n",
    "import seaborn as sns\n",
    "\n",
    "# Generate classification report as a dataframe\n",
    "report = classification_report(y_test, y_pred, target_names=nb_model.classes_, output_dict=True)\n",
    "report_df = pd.DataFrame(report).transpose()\n",
    "\n",
    "# Plot precision, recall, and F1-score\n",
    "report_df.iloc[:-1, :-1].plot(kind=\"bar\", figsize=(10, 6))\n",
    "plt.title(\"Class-Wise Precision, Recall, and F1-Score\")\n",
    "plt.ylabel(\"Score\")\n",
    "plt.xlabel(\"Class\")\n",
    "plt.xticks(rotation=45)\n",
    "plt.show()"
   ]
  },
  {
   "cell_type": "markdown",
   "id": "4562b7ff",
   "metadata": {
    "papermill": {
     "duration": 0.008688,
     "end_time": "2024-12-02T13:38:41.543044",
     "exception": false,
     "start_time": "2024-12-02T13:38:41.534356",
     "status": "completed"
    },
    "tags": []
   },
   "source": [
    "# **SVM**"
   ]
  },
  {
   "cell_type": "code",
   "execution_count": 21,
   "id": "c32ae9fb",
   "metadata": {
    "execution": {
     "iopub.execute_input": "2024-12-02T13:38:41.563138Z",
     "iopub.status.busy": "2024-12-02T13:38:41.562522Z",
     "iopub.status.idle": "2024-12-02T13:38:43.144325Z",
     "shell.execute_reply": "2024-12-02T13:38:43.142884Z"
    },
    "papermill": {
     "duration": 1.594816,
     "end_time": "2024-12-02T13:38:43.146789",
     "exception": false,
     "start_time": "2024-12-02T13:38:41.551973",
     "status": "completed"
    },
    "tags": []
   },
   "outputs": [
    {
     "name": "stdout",
     "output_type": "stream",
     "text": [
      "Cross-Validation Accuracy Scores:  [0.60546875 0.56640625 0.5234375  0.56078431 0.58039216]\n",
      "Mean CV Accuracy:  0.567297794117647\n",
      "\n",
      "Classification Report:\n",
      "               precision    recall  f1-score   support\n",
      "\n",
      "           0       0.85      0.45      0.59        38\n",
      "           1       0.65      0.52      0.58        66\n",
      "           2       0.52      0.46      0.49        69\n",
      "           3       0.60      0.76      0.67       147\n",
      "\n",
      "    accuracy                           0.61       320\n",
      "   macro avg       0.65      0.55      0.58       320\n",
      "weighted avg       0.62      0.61      0.60       320\n",
      "\n"
     ]
    }
   ],
   "source": [
    "from sklearn.svm import SVC\n",
    "from sklearn.model_selection import cross_val_score\n",
    "from sklearn.metrics import classification_report, confusion_matrix\n",
    "import numpy as np\n",
    "\n",
    "# Initialize SVM classifier\n",
    "svm_model = SVC(kernel='linear', gamma='auto', C=1, random_state=42)\n",
    "\n",
    "# Perform 5-fold cross-validation\n",
    "cv_scores = cross_val_score(svm_model, X_train_tfidf, y_train, cv=5, scoring='accuracy')\n",
    "\n",
    "# Train the SVM on the entire training set\n",
    "svm_model.fit(X_train_tfidf, y_train)\n",
    "\n",
    "# Predict on the test set\n",
    "y_pred = svm_model.predict(X_test_tfidf)\n",
    "\n",
    "# Evaluate the model\n",
    "print(\"Cross-Validation Accuracy Scores: \", cv_scores)\n",
    "print(\"Mean CV Accuracy: \", np.mean(cv_scores))\n",
    "print(\"\\nClassification Report:\\n\", classification_report(y_test, y_pred))"
   ]
  },
  {
   "cell_type": "code",
   "execution_count": 22,
   "id": "7e3652ad",
   "metadata": {
    "execution": {
     "iopub.execute_input": "2024-12-02T13:38:43.167008Z",
     "iopub.status.busy": "2024-12-02T13:38:43.166240Z",
     "iopub.status.idle": "2024-12-02T13:38:43.464815Z",
     "shell.execute_reply": "2024-12-02T13:38:43.463501Z"
    },
    "papermill": {
     "duration": 0.311389,
     "end_time": "2024-12-02T13:38:43.467265",
     "exception": false,
     "start_time": "2024-12-02T13:38:43.155876",
     "status": "completed"
    },
    "tags": []
   },
   "outputs": [
    {
     "data": {
      "image/png": "[encoded data removed]",
      "text/plain": [
       "<Figure size 640x480 with 2 Axes>"
      ]
     },
     "metadata": {},
     "output_type": "display_data"
    }
   ],
   "source": [
    "# Confusion Matrix\n",
    "cm = confusion_matrix(y_test, y_pred, labels=svm_model.classes_)\n",
    "\n",
    "# Display confusion matrix\n",
    "disp = ConfusionMatrixDisplay(confusion_matrix=cm, display_labels=svm_model.classes_)\n",
    "disp.plot(cmap=plt.cm.Blues)\n",
    "plt.title(\"Confusion Matrix\")\n",
    "plt.show()"
   ]
  },
  {
   "cell_type": "code",
   "execution_count": 23,
   "id": "5b6861a2",
   "metadata": {
    "execution": {
     "iopub.execute_input": "2024-12-02T13:38:43.494558Z",
     "iopub.status.busy": "2024-12-02T13:38:43.494095Z",
     "iopub.status.idle": "2024-12-02T13:38:43.837079Z",
     "shell.execute_reply": "2024-12-02T13:38:43.835273Z"
    },
    "papermill": {
     "duration": 0.357568,
     "end_time": "2024-12-02T13:38:43.839565",
     "exception": false,
     "start_time": "2024-12-02T13:38:43.481997",
     "status": "completed"
    },
    "tags": []
   },
   "outputs": [
    {
     "data": {
      "image/png": "[encoded data removed]",
      "text/plain": [
       "<Figure size 1000x600 with 1 Axes>"
      ]
     },
     "metadata": {},
     "output_type": "display_data"
    }
   ],
   "source": [
    "# Generate classification report as a dataframe\n",
    "report = classification_report(y_test, y_pred, target_names=svm_model.classes_, output_dict=True)\n",
    "report_df = pd.DataFrame(report).transpose()\n",
    "\n",
    "# Plot precision, recall, and F1-score\n",
    "report_df.iloc[:-1, :-1].plot(kind=\"bar\", figsize=(10, 6))\n",
    "plt.title(\"Class-Wise Precision, Recall, and F1-Score\")\n",
    "plt.ylabel(\"Score\")\n",
    "plt.xlabel(\"Class\")\n",
    "plt.xticks(rotation=45)\n",
    "plt.show()"
   ]
  },
  {
   "cell_type": "markdown",
   "id": "fc9fda49",
   "metadata": {
    "papermill": {
     "duration": 0.009919,
     "end_time": "2024-12-02T13:38:43.860476",
     "exception": false,
     "start_time": "2024-12-02T13:38:43.850557",
     "status": "completed"
    },
    "tags": []
   },
   "source": [
    "# **RANDOM FOREST CLASSIFIER**"
   ]
  },
  {
   "cell_type": "code",
   "execution_count": 24,
   "id": "636f9774",
   "metadata": {
    "execution": {
     "iopub.execute_input": "2024-12-02T13:38:43.882654Z",
     "iopub.status.busy": "2024-12-02T13:38:43.882259Z",
     "iopub.status.idle": "2024-12-02T13:38:50.837967Z",
     "shell.execute_reply": "2024-12-02T13:38:50.836740Z"
    },
    "papermill": {
     "duration": 6.969856,
     "end_time": "2024-12-02T13:38:50.840607",
     "exception": false,
     "start_time": "2024-12-02T13:38:43.870751",
     "status": "completed"
    },
    "tags": []
   },
   "outputs": [
    {
     "name": "stdout",
     "output_type": "stream",
     "text": [
      "Cross-Validation Accuracy Scores:  [0.6015625  0.5703125  0.51171875 0.57254902 0.56470588]\n",
      "Mean CV Accuracy:  0.5641697303921568\n",
      "\n",
      "Classification Report:\n",
      "               precision    recall  f1-score   support\n",
      "\n",
      "           0       0.68      0.39      0.50        38\n",
      "           1       0.67      0.33      0.44        66\n",
      "           2       0.58      0.41      0.48        69\n",
      "           3       0.56      0.83      0.67       147\n",
      "\n",
      "    accuracy                           0.58       320\n",
      "   macro avg       0.62      0.49      0.52       320\n",
      "weighted avg       0.60      0.58      0.56       320\n",
      "\n"
     ]
    }
   ],
   "source": [
    "from sklearn.ensemble import RandomForestClassifier\n",
    "\n",
    "# Initialize the Random Forest Classifier\n",
    "rf_model = RandomForestClassifier(n_estimators=100, random_state=42)\n",
    "\n",
    "# Perform 5-fold cross-validation\n",
    "cv_scores = cross_val_score(rf_model, X_train_tfidf, y_train, cv=5, scoring='accuracy')\n",
    "\n",
    "# Train the Random Forest on the entire training set\n",
    "rf_model.fit(X_train_tfidf, y_train)\n",
    "\n",
    "# Predict on the test set\n",
    "y_pred = rf_model.predict(X_test_tfidf)\n",
    "\n",
    "# Evaluate the model\n",
    "print(\"Cross-Validation Accuracy Scores: \", cv_scores)\n",
    "print(\"Mean CV Accuracy: \", np.mean(cv_scores))\n",
    "print(\"\\nClassification Report:\\n\", classification_report(y_test, y_pred))"
   ]
  },
  {
   "cell_type": "code",
   "execution_count": 25,
   "id": "c9222bfb",
   "metadata": {
    "execution": {
     "iopub.execute_input": "2024-12-02T13:38:50.864111Z",
     "iopub.status.busy": "2024-12-02T13:38:50.863065Z",
     "iopub.status.idle": "2024-12-02T13:38:51.133288Z",
     "shell.execute_reply": "2024-12-02T13:38:51.131854Z"
    },
    "papermill": {
     "duration": 0.284319,
     "end_time": "2024-12-02T13:38:51.135898",
     "exception": false,
     "start_time": "2024-12-02T13:38:50.851579",
     "status": "completed"
    },
    "tags": []
   },
   "outputs": [
    {
     "data": {
      "image/png": "[encoded data removed]",
      "text/plain": [
       "<Figure size 640x480 with 2 Axes>"
      ]
     },
     "metadata": {},
     "output_type": "display_data"
    }
   ],
   "source": [
    "# Confusion Matrix\n",
    "cm = confusion_matrix(y_test, y_pred, labels=rf_model.classes_)\n",
    "\n",
    "# Display confusion matrix\n",
    "disp = ConfusionMatrixDisplay(confusion_matrix=cm, display_labels=rf_model.classes_)\n",
    "disp.plot(cmap=plt.cm.Blues)\n",
    "plt.title(\"Confusion Matrix\")\n",
    "plt.show()"
   ]
  },
  {
   "cell_type": "code",
   "execution_count": 26,
   "id": "232eda53",
   "metadata": {
    "execution": {
     "iopub.execute_input": "2024-12-02T13:38:51.162024Z",
     "iopub.status.busy": "2024-12-02T13:38:51.161547Z",
     "iopub.status.idle": "2024-12-02T13:38:51.487567Z",
     "shell.execute_reply": "2024-12-02T13:38:51.486428Z"
    },
    "papermill": {
     "duration": 0.340612,
     "end_time": "2024-12-02T13:38:51.489924",
     "exception": false,
     "start_time": "2024-12-02T13:38:51.149312",
     "status": "completed"
    },
    "tags": []
   },
   "outputs": [
    {
     "data": {
      "image/png": "[encoded data removed]",
      "text/plain": [
       "<Figure size 1000x600 with 1 Axes>"
      ]
     },
     "metadata": {},
     "output_type": "display_data"
    }
   ],
   "source": [
    "# Generate classification report as a dataframe\n",
    "report = classification_report(y_test, y_pred, target_names=rf_model.classes_, output_dict=True)\n",
    "report_df = pd.DataFrame(report).transpose()\n",
    "\n",
    "# Plot precision, recall, and F1-score\n",
    "report_df.iloc[:-1, :-1].plot(kind=\"bar\", figsize=(10, 6))\n",
    "plt.title(\"Class-Wise Precision, Recall, and F1-Score\")\n",
    "plt.ylabel(\"Score\")\n",
    "plt.xlabel(\"Class\")\n",
    "plt.xticks(rotation=45)\n",
    "plt.show()"
   ]
  },
  {
   "cell_type": "markdown",
   "id": "f1495a10",
   "metadata": {
    "papermill": {
     "duration": 0.010999,
     "end_time": "2024-12-02T13:38:51.512426",
     "exception": false,
     "start_time": "2024-12-02T13:38:51.501427",
     "status": "completed"
    },
    "tags": []
   },
   "source": [
    "# **DECISION TREE**"
   ]
  },
  {
   "cell_type": "code",
   "execution_count": 27,
   "id": "f9d36033",
   "metadata": {
    "execution": {
     "iopub.execute_input": "2024-12-02T13:38:51.537184Z",
     "iopub.status.busy": "2024-12-02T13:38:51.536800Z",
     "iopub.status.idle": "2024-12-02T13:38:52.280418Z",
     "shell.execute_reply": "2024-12-02T13:38:52.278995Z"
    },
    "papermill": {
     "duration": 0.759542,
     "end_time": "2024-12-02T13:38:52.282943",
     "exception": false,
     "start_time": "2024-12-02T13:38:51.523401",
     "status": "completed"
    },
    "tags": []
   },
   "outputs": [
    {
     "name": "stdout",
     "output_type": "stream",
     "text": [
      "Cross-Validation Accuracy Scores:  [0.5390625  0.51171875 0.4765625  0.5254902  0.59215686]\n",
      "Mean CV Accuracy:  0.5289981617647059\n",
      "\n",
      "Classification Report:\n",
      "               precision    recall  f1-score   support\n",
      "\n",
      "           0       0.50      0.45      0.47        38\n",
      "           1       0.37      0.30      0.33        66\n",
      "           2       0.47      0.51      0.49        69\n",
      "           3       0.54      0.59      0.56       147\n",
      "\n",
      "    accuracy                           0.49       320\n",
      "   macro avg       0.47      0.46      0.46       320\n",
      "weighted avg       0.49      0.49      0.49       320\n",
      "\n"
     ]
    }
   ],
   "source": [
    "from sklearn.tree import DecisionTreeClassifier\n",
    "\n",
    "# Initialize the Decision Tree Classifier\n",
    "dt_model = DecisionTreeClassifier(random_state=42)\n",
    "\n",
    "# Perform 5-fold cross-validation\n",
    "cv_scores = cross_val_score(dt_model, X_train_tfidf, y_train, cv=5, scoring='accuracy')\n",
    "\n",
    "# Train the Decision Tree on the entire training set\n",
    "dt_model.fit(X_train_tfidf, y_train)\n",
    "\n",
    "# Predict on the test set\n",
    "y_pred = dt_model.predict(X_test_tfidf)\n",
    "\n",
    "# Evaluate the model\n",
    "print(\"Cross-Validation Accuracy Scores: \", cv_scores)\n",
    "print(\"Mean CV Accuracy: \", np.mean(cv_scores))\n",
    "print(\"\\nClassification Report:\\n\", classification_report(y_test, y_pred))"
   ]
  },
  {
   "cell_type": "code",
   "execution_count": 28,
   "id": "22bcc616",
   "metadata": {
    "execution": {
     "iopub.execute_input": "2024-12-02T13:38:52.307064Z",
     "iopub.status.busy": "2024-12-02T13:38:52.306655Z",
     "iopub.status.idle": "2024-12-02T13:38:52.603309Z",
     "shell.execute_reply": "2024-12-02T13:38:52.602038Z"
    },
    "papermill": {
     "duration": 0.311241,
     "end_time": "2024-12-02T13:38:52.605399",
     "exception": false,
     "start_time": "2024-12-02T13:38:52.294158",
     "status": "completed"
    },
    "tags": []
   },
   "outputs": [
    {
     "data": {
      "image/png": "[encoded data removed]",
      "text/plain": [
       "<Figure size 640x480 with 2 Axes>"
      ]
     },
     "metadata": {},
     "output_type": "display_data"
    }
   ],
   "source": [
    "# Confusion Matrix\n",
    "cm = confusion_matrix(y_test, y_pred, labels=dt_model.classes_)\n",
    "\n",
    "# Display confusion matrix\n",
    "disp = ConfusionMatrixDisplay(confusion_matrix=cm, display_labels=dt_model.classes_)\n",
    "disp.plot(cmap=plt.cm.Blues)\n",
    "plt.title(\"Confusion Matrix\")\n",
    "plt.show()"
   ]
  },
  {
   "cell_type": "markdown",
   "id": "4d60338a",
   "metadata": {
    "papermill": {
     "duration": 0.011332,
     "end_time": "2024-12-02T13:38:52.628433",
     "exception": false,
     "start_time": "2024-12-02T13:38:52.617101",
     "status": "completed"
    },
    "tags": []
   },
   "source": [
    "# **KNN** "
   ]
  },
  {
   "cell_type": "code",
   "execution_count": 29,
   "id": "fce0dc20",
   "metadata": {
    "execution": {
     "iopub.execute_input": "2024-12-02T13:38:52.654056Z",
     "iopub.status.busy": "2024-12-02T13:38:52.653331Z",
     "iopub.status.idle": "2024-12-02T13:38:53.008451Z",
     "shell.execute_reply": "2024-12-02T13:38:53.007152Z"
    },
    "papermill": {
     "duration": 0.371055,
     "end_time": "2024-12-02T13:38:53.011241",
     "exception": false,
     "start_time": "2024-12-02T13:38:52.640186",
     "status": "completed"
    },
    "tags": []
   },
   "outputs": [
    {
     "name": "stdout",
     "output_type": "stream",
     "text": [
      "Cross-validation scores: [0.53515625 0.546875   0.51171875 0.47843137 0.54117647]\n",
      "Average cross-validation score: 0.522671568627451\n",
      "              precision    recall  f1-score   support\n",
      "\n",
      "           0       0.57      0.32      0.41        38\n",
      "           1       0.54      0.52      0.53        66\n",
      "           2       0.47      0.54      0.50        69\n",
      "           3       0.66      0.71      0.69       147\n",
      "\n",
      "    accuracy                           0.59       320\n",
      "   macro avg       0.56      0.52      0.53       320\n",
      "weighted avg       0.59      0.59      0.58       320\n",
      "\n"
     ]
    }
   ],
   "source": [
    "from sklearn.neighbors import KNeighborsClassifier\n",
    "\n",
    "# Initialize the KNN classifier\n",
    "knn = KNeighborsClassifier(n_neighbors=5)\n",
    "\n",
    "# Apply cross-validation\n",
    "cv_scores = cross_val_score(knn, X_train_tfidf, y_train, cv=5)  # Using the TF-IDF transformed training data\n",
    "\n",
    "# Print the cross-validation results\n",
    "print(f'Cross-validation scores: {cv_scores}')\n",
    "print(f'Average cross-validation score: {cv_scores.mean()}')\n",
    "\n",
    "# Fit the model on the full training data and make predictions\n",
    "knn.fit(X_train_tfidf, y_train)\n",
    "y_pred = knn.predict(X_test_tfidf)\n",
    "\n",
    "# Print the classification report\n",
    "print(classification_report(y_test, y_pred))"
   ]
  },
  {
   "cell_type": "code",
   "execution_count": 30,
   "id": "975d5022",
   "metadata": {
    "execution": {
     "iopub.execute_input": "2024-12-02T13:38:53.037253Z",
     "iopub.status.busy": "2024-12-02T13:38:53.036729Z",
     "iopub.status.idle": "2024-12-02T13:38:53.464375Z",
     "shell.execute_reply": "2024-12-02T13:38:53.463144Z"
    },
    "papermill": {
     "duration": 0.443229,
     "end_time": "2024-12-02T13:38:53.466551",
     "exception": false,
     "start_time": "2024-12-02T13:38:53.023322",
     "status": "completed"
    },
    "tags": []
   },
   "outputs": [
    {
     "data": {
      "image/png": "[encoded data removed]",
      "text/plain": [
       "<Figure size 640x480 with 2 Axes>"
      ]
     },
     "metadata": {},
     "output_type": "display_data"
    }
   ],
   "source": [
    "# Confusion Matrix\n",
    "cm = confusion_matrix(y_test, y_pred, labels=knn.classes_)\n",
    "\n",
    "# Display confusion matrix\n",
    "disp = ConfusionMatrixDisplay(confusion_matrix=cm, display_labels=knn.classes_)\n",
    "disp.plot(cmap=plt.cm.Blues)\n",
    "plt.title(\"Confusion Matrix\")\n",
    "plt.show()"
   ]
  }
 ],
 "metadata": {
  "kaggle": {
   "accelerator": "none",
   "dataSources": [
    {
     "datasetId": 1335671,
     "sourceId": 2233309,
     "sourceType": "datasetVersion"
    },
    {
     "datasetId": 5878255,
     "sourceId": 9629263,
     "sourceType": "datasetVersion"
    }
   ],
   "dockerImageVersionId": 30786,
   "isGpuEnabled": false,
   "isInternetEnabled": false,
   "language": "python",
   "sourceType": "notebook"
  },
  "kernelspec": {
   "display_name": "Python 3",
   "language": "python",
   "name": "python3"
  },
  "language_info": {
   "codemirror_mode": {
    "name": "ipython",
    "version": 3
   },
   "file_extension": ".py",
   "mimetype": "text/x-python",
   "name": "python",
   "nbconvert_exporter": "python",
   "pygments_lexer": "ipython3",
   "version": "3.10.14"
  },
  "papermill": {
   "default_parameters": {},
   "duration": 53.394739,
   "end_time": "2024-12-02T13:38:54.301532",
   "environment_variables": {},
   "exception": null,
   "input_path": "__notebook__.ipynb",
   "output_path": "__notebook__.ipynb",
   "parameters": {},
   "start_time": "2024-12-02T13:38:00.906793",
   "version": "2.6.0"
  }
 },
 "nbformat": 4,
 "nbformat_minor": 5
}
